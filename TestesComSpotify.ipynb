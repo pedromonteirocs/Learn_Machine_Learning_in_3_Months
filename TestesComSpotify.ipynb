{
  "nbformat": 4,
  "nbformat_minor": 0,
  "metadata": {
    "colab": {
      "name": "TestesComSpotify.ipynb",
      "provenance": [],
      "authorship_tag": "ABX9TyPS86CgdwwMBVYefaboHieq",
      "include_colab_link": true
    },
    "kernelspec": {
      "name": "python3",
      "display_name": "Python 3"
    }
  },
  "cells": [
    {
      "cell_type": "markdown",
      "metadata": {
        "id": "view-in-github",
        "colab_type": "text"
      },
      "source": [
        "<a href=\"https://colab.research.google.com/github/pedromonteirocs/Learn_Machine_Learning_in_3_Months/blob/master/TestesComSpotify.ipynb\" target=\"_parent\"><img src=\"https://colab.research.google.com/assets/colab-badge.svg\" alt=\"Open In Colab\"/></a>"
      ]
    },
    {
      "cell_type": "code",
      "metadata": {
        "id": "JtsBTrr9_d55",
        "colab_type": "code",
        "colab": {
          "base_uri": "https://localhost:8080/",
          "height": 187
        },
        "outputId": "b9f207b4-14bd-4a76-ec18-036c4bb80b1c"
      },
      "source": [
        "!pip install Spotipy"
      ],
      "execution_count": 1,
      "outputs": [
        {
          "output_type": "stream",
          "text": [
            "Collecting Spotipy\n",
            "  Downloading https://files.pythonhosted.org/packages/65/4b/67aa672cd892a54997c9d1368bdc05b9550841b119329eb6966b4e933053/spotipy-2.15.0-py3-none-any.whl\n",
            "Requirement already satisfied: six>=1.10.0 in /usr/local/lib/python3.6/dist-packages (from Spotipy) (1.15.0)\n",
            "Requirement already satisfied: requests>=2.20.0 in /usr/local/lib/python3.6/dist-packages (from Spotipy) (2.23.0)\n",
            "Requirement already satisfied: urllib3!=1.25.0,!=1.25.1,<1.26,>=1.21.1 in /usr/local/lib/python3.6/dist-packages (from requests>=2.20.0->Spotipy) (1.24.3)\n",
            "Requirement already satisfied: certifi>=2017.4.17 in /usr/local/lib/python3.6/dist-packages (from requests>=2.20.0->Spotipy) (2020.6.20)\n",
            "Requirement already satisfied: chardet<4,>=3.0.2 in /usr/local/lib/python3.6/dist-packages (from requests>=2.20.0->Spotipy) (3.0.4)\n",
            "Requirement already satisfied: idna<3,>=2.5 in /usr/local/lib/python3.6/dist-packages (from requests>=2.20.0->Spotipy) (2.10)\n",
            "Installing collected packages: Spotipy\n",
            "Successfully installed Spotipy-2.15.0\n"
          ],
          "name": "stdout"
        }
      ]
    },
    {
      "cell_type": "code",
      "metadata": {
        "id": "jsVzo3b8ArD6",
        "colab_type": "code",
        "colab": {}
      },
      "source": [
        "import spotipy\n",
        "import spotipy.util as util\n",
        "from spotipy.oauth2 import SpotifyClientCredentials\n",
        "import spotipy.oauth2 as oauth2\n",
        "\n",
        "import pandas as pd\n",
        "import numpy as np\n",
        "\n",
        "from sklearn.cluster import KMeans"
      ],
      "execution_count": 2,
      "outputs": []
    },
    {
      "cell_type": "code",
      "metadata": {
        "id": "otpcZfEoHWZT",
        "colab_type": "code",
        "colab": {}
      },
      "source": [
        "# client_id= \"eeef52fb50cb44dd82a0887f30d96f2f\"\n",
        "# client_secret= \"c65713bc0ccf4985b998e53b97de6ff4\"\n",
        "# redirect_uri='Exemplo: http://google.com/'\n",
        "# username='pedromonteirocs'\n",
        "# playlist = 'ID_DA_SUA_PLAYLIST'"
      ],
      "execution_count": 3,
      "outputs": []
    },
    {
      "cell_type": "code",
      "metadata": {
        "id": "JHZt4R12H6mf",
        "colab_type": "code",
        "colab": {}
      },
      "source": [
        "#Input your Spotify credentials below\n",
        "\n",
        "CLIENT_ID = \"eeef52fb50cb44dd82a0887f30d96f2f\"\n",
        "CLIENT_SECRET =  \"c65713bc0ccf4985b998e53b97de6ff4\"\n",
        "username = 'pedromonteirocs'\n",
        "#username = \n",
        "market = ['BR']\n",
        "redirect_uri='http://localhost:8080/callback/'\n"
      ],
      "execution_count": 4,
      "outputs": []
    },
    {
      "cell_type": "code",
      "metadata": {
        "id": "_MU-7IUD6p0r",
        "colab_type": "code",
        "colab": {
          "base_uri": "https://localhost:8080/",
          "height": 71
        },
        "outputId": "99192c5b-ec6d-4474-99b8-c232f7760d9e"
      },
      "source": [
        "credentials = oauth2.SpotifyClientCredentials(\n",
        "        client_id=CLIENT_ID,\n",
        "        client_secret=CLIENT_SECRET)\n",
        "\n",
        "token = credentials.get_access_token()\n",
        "spotify = spotipy.Spotify(auth=token)\n",
        "scope = 'user-library-read' #scope = 'user-library-read playlist-modify-public playlist-read-private' #This is an alternate scope...\n",
        "\n",
        "#token = util.prompt_for_user_token(username, scope, CLIENT_ID, CLIENT_SECRET, redirect_uri) # Use this if the token above doesn't work."
      ],
      "execution_count": 5,
      "outputs": [
        {
          "output_type": "stream",
          "text": [
            "/usr/local/lib/python3.6/dist-packages/ipykernel_launcher.py:5: DeprecationWarning: You're using 'as_dict = True'.get_access_token will return the token string directly in future versions. Please adjust your code accordingly, or use get_cached_token instead.\n",
            "  \"\"\"\n"
          ],
          "name": "stderr"
        }
      ]
    },
    {
      "cell_type": "code",
      "metadata": {
        "id": "M77i04MiWcEB",
        "colab_type": "code",
        "colab": {}
      },
      "source": [
        "#Enter your own playlist for custom results\n",
        "\n",
        "PLAYLIST_ID = '37i9dQZF1EpvQqCl4eXhB3'\n",
        "#PLAYLIST_ID = '2v9D2pznYNnAoxgUyneIGN' #Juans playlist\n",
        "\n",
        "def get_playlist_tracks(username,playlist_id):\n",
        "    results = spotify.user_playlist_tracks(username,playlist_id,limit=100, offset=0)\n",
        "    tracks = results['items']\n",
        "    while results['next']:\n",
        "        results = spotify.next(results)\n",
        "        tracks.extend(results['items'])\n",
        "    return tracks\n",
        "\n",
        "\n",
        "#playlist_tracks=get_playlist_tracks(CLIENT_ID,PLAYLIST_ID)\n",
        "\n",
        "#playlist do benei\n",
        "playlist_tracks=get_playlist_tracks(CLIENT_ID,'21sYYcgcMO3do3TcDEBy5z')\n",
        "\n",
        "\n",
        "#playlist_tracks = spotify.user_playlist_tracks(CLIENT_ID, PLAYLIST_ID, fields='items,uri,name,id,total')"
      ],
      "execution_count": 6,
      "outputs": []
    },
    {
      "cell_type": "code",
      "metadata": {
        "id": "KTBDA8fa7ybR",
        "colab_type": "code",
        "colab": {
          "base_uri": "https://localhost:8080/",
          "height": 34
        },
        "outputId": "80761888-8be9-4ade-ab66-7a55c8c34045"
      },
      "source": [
        "len(playlist_tracks)"
      ],
      "execution_count": 7,
      "outputs": [
        {
          "output_type": "execute_result",
          "data": {
            "text/plain": [
              "57"
            ]
          },
          "metadata": {
            "tags": []
          },
          "execution_count": 7
        }
      ]
    },
    {
      "cell_type": "markdown",
      "metadata": {
        "id": "GeA6h5Hs70NN",
        "colab_type": "text"
      },
      "source": [
        "Nomes das Músicas"
      ]
    },
    {
      "cell_type": "code",
      "metadata": {
        "id": "FOfCAb7f4uaG",
        "colab_type": "code",
        "colab": {
          "base_uri": "https://localhost:8080/",
          "height": 182
        },
        "outputId": "b6ad42d2-ec93-45ab-8d5c-a3430f84cfc6"
      },
      "source": [
        "teste=playlist_tracks[\"items\"][0]['track']['name']\n",
        "playlist_tracks['items'][0]['track']['artists'][0]['name']"
      ],
      "execution_count": 8,
      "outputs": [
        {
          "output_type": "error",
          "ename": "TypeError",
          "evalue": "ignored",
          "traceback": [
            "\u001b[0;31m---------------------------------------------------------------------------\u001b[0m",
            "\u001b[0;31mTypeError\u001b[0m                                 Traceback (most recent call last)",
            "\u001b[0;32m<ipython-input-8-3560cdfd548c>\u001b[0m in \u001b[0;36m<module>\u001b[0;34m()\u001b[0m\n\u001b[0;32m----> 1\u001b[0;31m \u001b[0mteste\u001b[0m\u001b[0;34m=\u001b[0m\u001b[0mplaylist_tracks\u001b[0m\u001b[0;34m[\u001b[0m\u001b[0;34m\"items\"\u001b[0m\u001b[0;34m]\u001b[0m\u001b[0;34m[\u001b[0m\u001b[0;36m0\u001b[0m\u001b[0;34m]\u001b[0m\u001b[0;34m[\u001b[0m\u001b[0;34m'track'\u001b[0m\u001b[0;34m]\u001b[0m\u001b[0;34m[\u001b[0m\u001b[0;34m'name'\u001b[0m\u001b[0;34m]\u001b[0m\u001b[0;34m\u001b[0m\u001b[0;34m\u001b[0m\u001b[0m\n\u001b[0m\u001b[1;32m      2\u001b[0m \u001b[0mplaylist_tracks\u001b[0m\u001b[0;34m[\u001b[0m\u001b[0;34m'items'\u001b[0m\u001b[0;34m]\u001b[0m\u001b[0;34m[\u001b[0m\u001b[0;36m0\u001b[0m\u001b[0;34m]\u001b[0m\u001b[0;34m[\u001b[0m\u001b[0;34m'track'\u001b[0m\u001b[0;34m]\u001b[0m\u001b[0;34m[\u001b[0m\u001b[0;34m'artists'\u001b[0m\u001b[0;34m]\u001b[0m\u001b[0;34m[\u001b[0m\u001b[0;36m0\u001b[0m\u001b[0;34m]\u001b[0m\u001b[0;34m[\u001b[0m\u001b[0;34m'name'\u001b[0m\u001b[0;34m]\u001b[0m\u001b[0;34m\u001b[0m\u001b[0;34m\u001b[0m\u001b[0m\n",
            "\u001b[0;31mTypeError\u001b[0m: list indices must be integers or slices, not str"
          ]
        }
      ]
    },
    {
      "cell_type": "markdown",
      "metadata": {
        "id": "IsbyRJpiYJVj",
        "colab_type": "text"
      },
      "source": [
        "IDs dos artistas e Músicas da Playlist e Nomes das Músicas"
      ]
    },
    {
      "cell_type": "code",
      "metadata": {
        "id": "4Vms7ZbFYC0l",
        "colab_type": "code",
        "colab": {
          "base_uri": "https://localhost:8080/",
          "height": 105
        },
        "outputId": "009ae636-5f70-42e4-cdb5-dc4a08042828"
      },
      "source": [
        "songIDs, artistIDs, nomeMusica, artistaNome = [], [],[],[]\n",
        "\n",
        "#Find the name, artist, and ID for each song in the playlist\n",
        "for i in range(len(playlist_tracks)):\n",
        "  artistIDs.append(playlist_tracks[i]['track']['artists'][0]['id']) #Append artist IDs to a list\n",
        "  songIDs.append(playlist_tracks[i]['track']['id']) #Append song IDs to a list\n",
        "  nomeMusica.append(playlist_tracks[i]['track']['name']) #append nome da musica\n",
        "  artistaNome.append(playlist_tracks[i]['track']['artists'][0]['name']) #append nome do artista\n",
        "  \n",
        "print(songIDs)\n",
        "print(artistIDs)\n",
        "print(artistaNome)\n",
        "print(nomeMusica)"
      ],
      "execution_count": 9,
      "outputs": [
        {
          "output_type": "stream",
          "text": [
            "['36P6ptTyxOggYgR2aoZiAl', '71FrGl0XcpL3VId65tB5mg', '4JPSfCXQe6kDliMIJTqISW', '4k20Ie47EcWtS4wMBn8w8S', '2AY8dKUoSLHzpIePuQOzU8', '4zGtfOglDBfVUypabBwIjQ', '7Ac3BmqTQoLdAt7HtZyfgN', '4xWzZmX4K1yyrdtRfbUvjt', '14kRWkCWBYfQqILflEcpSJ', '3Hb9kUdm4yf839Fle4RIdT', '7rLegaz7zKB6EtDNzcslKE', '4lKuzrdZrJuCAedbIslF3A', '7rvW49PvaFKGyfeoxay9Go', '4HUZBG98TYbxSR9V1V2DWS', '7FiIQXpIeLo3ITfGGpb8PB', '5dKesZwp6deuhEeW8F1UEi', '6V43u5SCjkfMpxMAXRPifr', '0ZHK2kaWTvSCRWkLflRFgF', '63SHcJzckFykS8faA5zojY', '1gCEwGf1XDVsGtUbNcgnxw', '5F8ffc8KWKNawllr5WsW0r', '6FWMkcaZyKS8I60zR6ro7h', '12v6LfkX9YIR3uLefIAAYZ', '6AaoEX192rJ6o3UFwG43sV', '3j7FDNUqIMWKaji6PK5SyF', '3unTxk7OFAo1mIyL4si9zj', '2loApP0kPaim0BTDVP9F26', '0AGS6ZRgzobrazmCi6pYMe', '2bPtwnrpFNEe8N7Q85kLHw', '1OUPXna2MCgAt3VNmXJBtg', '2RMOwSvOGQyy985Vx4VSGQ', '2H8ETIUEoN9YMf56X66bxd', '1OtZIaJBXo3Pe6nfaMsjKT', '70rCH90CeRGzCrVr4fSbqg', '0nkDm27DGppCSk8dnGtvPa', '2WlZuBDgLfT7Kc0admhFdg', '6cCmWeefBjzsgDRceD4AXw', '7LPR6AdkOQR9WpEixCGNCk', '7pDcS0EVMJR0YwjXmHcCRg', '3Ga6eKrUFf12ouh9Yw3v2D', '0TwBtDAWpkpM3srywFVOV5', '72TFWvU3wUYdUuxejTTIzt', '6ldwfK0yWgTAlmIfuQkTYN', '314QzMOrpNUqWBUozYshf6', '5hgnY0mVcVetszbb85qeDg', '2n4uOdMHzEvcZ0KP7iQnay', '3ZFTkvIE7kyPt6Nu3PEa7V', '20jYtEun4dUdYZ9foaOC48', '0BxfFnk0YzONqvmrkO0QrB', '26nr9XnFCYWxBTIP7HyWXg', '0YGQ3hZcRLC5YX7o0hdmHg', '6uVzIUZexBvKf85fWGBXuW', '2cMTIlktg3M9mXYqCPqw1J', '1CrxDKnx34D9zoAIvf7B9H', '0azC730Exh71aQlOt9Zj3y', '40VAYnnGBDLQVXD8D1ager', '2HWWNoWEEEECwZhAiLg7ib']\n",
            "['3k68C6mNMJL6OaAdWeW2ZF', '5Lv2GUVwqmQBPwrTrxucE5', '1X6ORK7IekgmyjV6IFPszP', '3CDoRporvSjdzTrm99a3gi', '7KVJCU4z5L4EUHILL8aMxR', '76Xa625geVw0Q7BdyxNjA2', '6xlRSRMLgZbsSNd0BMobwy', '5uYe4bcAXlMP7d4mrOYkML', '0jTDeBJQr3unrK29LklnAv', '0lHB0Qc4pmD5RkTLlHeESo', '2UMj7NCbuqy1yUZmiSYGjJ', '5wbf52LA6kcaboHSN6NEF1', '2UMj7NCbuqy1yUZmiSYGjJ', '0yApzRdrUqTGqX9MULdnmV', '2UMj7NCbuqy1yUZmiSYGjJ', '2Cra8I2P4OnMkVguqZRVwi', '5GqnSMX8p2hxqsM6LqDty3', '5wbf52LA6kcaboHSN6NEF1', '09EYYUcfEDOvj3D5f45L99', '2tK6ec5aZIbbfrQeO9VRTo', '36SRwzRkX5zW3ABjJrevqX', '2UMj7NCbuqy1yUZmiSYGjJ', '6qrqAYlS6lUj2BVXax7SZW', '6xlRSRMLgZbsSNd0BMobwy', '7Lmrb6KcIzfkmgbtokjsAL', '0lHB0Qc4pmD5RkTLlHeESo', '7FNnA9vBm6EKceENgCGRMb', '5uYe4bcAXlMP7d4mrOYkML', '7FNnA9vBm6EKceENgCGRMb', '5bzWtCkjIAMgN93gLt56SO', '3CDoRporvSjdzTrm99a3gi', '7FNnA9vBm6EKceENgCGRMb', '5TmW0cFVEYEbypgTdSNNDn', '5TmW0cFVEYEbypgTdSNNDn', '11iQCRz636WFdHj42qxAF6', '4PzYKhC14sTJNEr0dzoo0d', '11iQCRz636WFdHj42qxAF6', '0jTDeBJQr3unrK29LklnAv', '4PzYKhC14sTJNEr0dzoo0d', '7FNnA9vBm6EKceENgCGRMb', '6vWDO969PvNqNYHIOW5v0m', '5pKCCKE2ajJHZ9KAiaK11H', '26dSoYclwsYLMAKD3tpOr4', '6wPhSqRtPu1UhRCDX5yaDJ', '6vWDO969PvNqNYHIOW5v0m', '1Y8cdNmUJH7yBTd9yOvr5i', '0EmeFodog0BfCgMzAIvKQp', '1yxSLGMDHlW21z4YXirZDS', '6wPhSqRtPu1UhRCDX5yaDJ', '26dSoYclwsYLMAKD3tpOr4', '6vWDO969PvNqNYHIOW5v0m', '6KDV6fi2x4NsKdyKxXm6LA', '0IF46mUS8NXjgHabxk2MCM', '26dSoYclwsYLMAKD3tpOr4', '7CajNmpbOovFoOoasH2HaY', '31TPClRtHm23RisEBtV3X7', '6vWDO969PvNqNYHIOW5v0m']\n",
            "['Diego & Victor Hugo', 'Os Barões Da Pisadinha', 'Gustavo Mioto', 'Ludmilla', 'Leo Santana', 'Mc Zaac', 'Dennis DJ', 'Niack', 'Lexa', 'MC L da Vinte', 'MC Kevin o Chris', 'Pedro Sampaio', 'MC Kevin o Chris', 'Thiaguinho MT', 'MC Kevin o Chris', 'Felipe Original', 'MC JottaPê', 'Pedro Sampaio', 'MC Ingryd', 'Mc Buiu', 'Dadá Boladão', 'MC Kevin o Chris', 'Mc Jacare', 'Dennis DJ', 'Mc Don Juan', 'MC L da Vinte', 'Anitta', 'Niack', 'Anitta', 'Tropkillaz', 'Ludmilla', 'Anitta', 'Delano', 'Delano', 'POCAH', 'Luísa Sonza', 'POCAH', 'Lexa', 'Luísa Sonza', 'Anitta', 'Beyoncé', 'Rihanna', 'Britney Spears', 'The Pussycat Dolls', 'Beyoncé', \"Destiny's Child\", 'Shakira', 'Black Eyed Peas', 'The Pussycat Dolls', 'Britney Spears', 'Beyoncé', 'Shakira Feat. Pitbull', 'Kelis', 'Britney Spears', 'Calvin Harris', 'Justin Timberlake', 'Beyoncé']\n",
            "['Pisadinha - Ao Vivo', 'Recairei - Ao Vivo', 'Coladinha em Mim - Ao Vivo', 'Invocada (Participação especial de Léo Santana) - Ao vivo', 'Solinho Da Rabeta', 'Desce Pro Play (PA PA PA)', 'Te Prometo', 'Oh Juliana', 'Chama Ela (feat. Pedro Sampaio)', 'Parado no Bailão', 'Medley da Gaiola - Dennis DJ Remix', 'SENTADÃO', 'Eu Vou pro Baile da Gaiola', 'Tudo Ok', 'Vamos pra Gaiola', 'Hit Contagiante', 'Sentou e Gostou', 'Bota pra Tremer', 'Vem Me Satisfazer', 'Aquecimento das Panteras', 'Surtada - Remix Brega Funk', 'Dentro do Carro', 'Comprei um Lança', 'Automaticamente', 'A Gente Brigou', 'Sentadão', 'Movimento da sanfoninha - Ao vivo', 'Na Raba Toma Tapão', 'Combatchy (feat. MC Rebecca)', 'Bola Rebola', 'Verdinha', 'Onda diferente (feat. Papatinho)', 'Na Ponta Ela Fica', 'Devagarinho', 'Não sou obrigada', 'BRABA', 'Perdendo A Linha', 'Sapequinha', 'TOMA', 'Downtown', 'Crazy In Love (feat. Jay-Z)', 'Work', \"I'm a Slave 4 U\", 'Buttons', 'Partition', 'Lose My Breath', \"Hips Don't Lie (feat. Wyclef Jean)\", 'My Humps', \"Don't Cha\", 'Toxic', 'Naughty Girl', 'Rabiosa', 'Milkshake', 'Womanizer', 'This Is What You Came For (feat. Rihanna)', 'SexyBack', 'Beautiful Liar']\n"
          ],
          "name": "stdout"
        }
      ]
    },
    {
      "cell_type": "markdown",
      "metadata": {
        "id": "az1o7geE9a34",
        "colab_type": "text"
      },
      "source": [
        "Features baseadas nas músicas"
      ]
    },
    {
      "cell_type": "code",
      "metadata": {
        "id": "OFAjW9OdH9Aq",
        "colab_type": "code",
        "colab": {}
      },
      "source": [
        "features_list = []\n",
        "features=spotify.audio_features(songIDs)\n",
        "for ident in songIDs: #for each song in the user's playlist get the features\n",
        "  features=spotify.audio_features(ident)[0]\n",
        "  features_list.append(([features['energy'], features['liveness'], features['tempo'], features['speechiness'], features['acousticness'], features['instrumentalness'],\n",
        "                          features['time_signature'], features['danceability'], features['key'], features['duration_ms'], features['loudness'], features['valence'], \n",
        "                          features['mode']]))"
      ],
      "execution_count": 10,
      "outputs": []
    },
    {
      "cell_type": "code",
      "metadata": {
        "id": "0Bs9_UFNd5x4",
        "colab_type": "code",
        "colab": {
          "base_uri": "https://localhost:8080/",
          "height": 170
        },
        "outputId": "314e7858-a192-4a31-e617-493f46840b49"
      },
      "source": [
        "#Read features into a df\n",
        "df = pd.DataFrame(features_list, columns=['energy', 'liveness', 'tempo', 'speechiness', 'acousticness', 'instrumentalness', 'time_signature', 'danceability', 'key', 'duration_ms', \n",
        "                                          'loudness', 'valence', 'mode'])\n",
        "\n",
        "print(df.head())\n",
        "\n",
        "df.shape"
      ],
      "execution_count": 11,
      "outputs": [
        {
          "output_type": "stream",
          "text": [
            "   energy  liveness    tempo  speechiness  ...  duration_ms  loudness  valence  mode\n",
            "0   0.874    0.0821  164.810       0.1280  ...       158662    -3.162    0.829     1\n",
            "1   0.937    0.6840  168.097       0.0861  ...       166838    -2.118    0.938     1\n",
            "2   0.680    0.9120  188.162       0.2920  ...       170507    -7.255    0.643     0\n",
            "3   0.864    0.9320  134.992       0.0517  ...       157494    -4.281    0.701     1\n",
            "4   0.866    0.0562  118.011       0.2590  ...       174515    -1.568    0.879     1\n",
            "\n",
            "[5 rows x 13 columns]\n"
          ],
          "name": "stdout"
        },
        {
          "output_type": "execute_result",
          "data": {
            "text/plain": [
              "(57, 13)"
            ]
          },
          "metadata": {
            "tags": []
          },
          "execution_count": 11
        }
      ]
    },
    {
      "cell_type": "code",
      "metadata": {
        "id": "htWYNoYxYWU0",
        "colab_type": "code",
        "colab": {}
      },
      "source": [
        "# features_list = []\n",
        "\n",
        "# for i in range(len(songIDs)): #for each song in the user's playlist\n",
        "#   thing = spotify.audio_features(songIDs)\n",
        "  \n",
        "#   for features in thing: #save each feature in the audio features json dict\n",
        "#     features_list.append([features['energy'], features['liveness'], features['tempo'], features['speechiness'], features['acousticness'], features['instrumentalness'],\n",
        "#                           features['time_signature'], features['danceability'], features['key'], features['duration_ms'], features['loudness'], features['valence'], \n",
        "#                           features['mode']])\n",
        "\n",
        "# #Read features into a df\n",
        "# df = pd.DataFrame(features_list, columns=['energy', 'liveness', 'tempo', 'speechiness', 'acousticness', 'instrumentalness', 'time_signature', 'danceability', 'key', 'duration_ms', \n",
        "#                                           'loudness', 'valence', 'mode'])\n",
        "\n",
        "# print(df.head())\n",
        "\n"
      ],
      "execution_count": null,
      "outputs": []
    },
    {
      "cell_type": "code",
      "metadata": {
        "id": "pTBycdGHSd1x",
        "colab_type": "code",
        "colab": {}
      },
      "source": [
        "df.shape"
      ],
      "execution_count": null,
      "outputs": []
    },
    {
      "cell_type": "code",
      "metadata": {
        "id": "iDUi66UvSSri",
        "colab_type": "code",
        "colab": {}
      },
      "source": [
        "X=np.array(df)\n",
        "\n",
        "labels = np.array(nomeMusica)\n",
        "\n",
        "kmeans = KMeans(n_clusters=2, random_state=0).fit(X)\n",
        "\n",
        "pred_classes = kmeans.predict(X)\n",
        "\n",
        "print(pred_classes)"
      ],
      "execution_count": null,
      "outputs": []
    },
    {
      "cell_type": "markdown",
      "metadata": {
        "id": "cdfnW5ZtEweJ",
        "colab_type": "text"
      },
      "source": [
        "Criar Clusters"
      ]
    },
    {
      "cell_type": "code",
      "metadata": {
        "id": "NGUyPLogEyCX",
        "colab_type": "code",
        "colab": {}
      },
      "source": [
        "N_CLUSTERS=4\n",
        "kmeans = KMeans(n_clusters=N_CLUSTERS, random_state=0).fit(X)\n",
        "\n",
        "pred_classes = kmeans.predict(X)\n"
      ],
      "execution_count": null,
      "outputs": []
    },
    {
      "cell_type": "code",
      "metadata": {
        "id": "geP_EB5zE1Tf",
        "colab_type": "code",
        "colab": {}
      },
      "source": [
        "X.shape\n",
        "labels.size\n",
        "range(len(songIDs))\n",
        "for cluster in range(N_CLUSTERS):\n",
        "    print('cluster: ', cluster)\n",
        "    print(labels[np.where(pred_classes == cluster)])"
      ],
      "execution_count": null,
      "outputs": []
    },
    {
      "cell_type": "markdown",
      "metadata": {
        "id": "IXNgxPL0EzBd",
        "colab_type": "text"
      },
      "source": [
        ""
      ]
    },
    {
      "cell_type": "code",
      "metadata": {
        "id": "liLOwyfiEq3h",
        "colab_type": "code",
        "colab": {}
      },
      "source": [
        ""
      ],
      "execution_count": null,
      "outputs": []
    },
    {
      "cell_type": "code",
      "metadata": {
        "id": "VVjCp_xyFvIK",
        "colab_type": "code",
        "colab": {}
      },
      "source": [
        ""
      ],
      "execution_count": null,
      "outputs": []
    }
  ]
}